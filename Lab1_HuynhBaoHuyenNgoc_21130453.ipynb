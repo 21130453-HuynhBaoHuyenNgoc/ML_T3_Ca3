{
  "nbformat": 4,
  "nbformat_minor": 0,
  "metadata": {
    "colab": {
      "provenance": [],
      "authorship_tag": "ABX9TyP2zKmpyp4doT6J1tmdxzVR",
      "include_colab_link": true
    },
    "kernelspec": {
      "name": "python3",
      "display_name": "Python 3"
    },
    "language_info": {
      "name": "python"
    }
  },
  "cells": [
    {
      "cell_type": "markdown",
      "metadata": {
        "id": "view-in-github",
        "colab_type": "text"
      },
      "source": [
        "<a href=\"https://colab.research.google.com/github/21130453-HuynhBaoHuyenNgoc/ML_T3_Ca3/blob/main/Lab1_HuynhBaoHuyenNgoc_21130453.ipynb\" target=\"_parent\"><img src=\"https://colab.research.google.com/assets/colab-badge.svg\" alt=\"Open In Colab\"/></a>"
      ]
    },
    {
      "cell_type": "code",
      "execution_count": null,
      "metadata": {
        "id": "gxJO2NV50p-P"
      },
      "outputs": [],
      "source": [
        "n = int(input(\"Nhập vào số nguyên \"))\n",
        "L = []\n",
        "i = 0\n",
        "while i < n:\n",
        " L.append(int(input(\"Nhập vào số nguyên \")))\n",
        " i+=1\n",
        "positive =0\n",
        "negative = 0\n",
        "for x in L:\n",
        " if(x > 0):\n",
        "  positive +=1\n",
        " else: negative +=1\n",
        "print(\"Max: \", max(L))\n",
        "print(\"Min: \", min(L))\n",
        "print(\"Sum: \", sum(L))\n",
        "print(\"positive: \",)\n",
        "L.sort\n",
        "print(\"sort: \", L)\n"
      ]
    },
    {
      "cell_type": "code",
      "source": [
        "def Sn(n):\n",
        " re = 0\n",
        " while(n> 0):\n",
        "  temp = 1\n",
        "  for x in range(1, n+1):\n",
        "   temp *= x\n",
        "   re += temp\n",
        "   n-=1\n",
        "  return re\n",
        "Sn(3)\n"
      ],
      "metadata": {
        "colab": {
          "base_uri": "https://localhost:8080/"
        },
        "id": "b9x3NtCcA6OJ",
        "outputId": "2e71b16a-33ce-4b4f-c9ba-992139624766"
      },
      "execution_count": null,
      "outputs": [
        {
          "output_type": "execute_result",
          "data": {
            "text/plain": [
              "9"
            ]
          },
          "metadata": {},
          "execution_count": 14
        }
      ]
    },
    {
      "cell_type": "code",
      "source": [
        "class Post:\n",
        "  def __init__(self, content, subject, likes = 0):\n",
        "    self.content = content\n",
        "    self.subject = subject\n",
        "    self.likes = likes\n",
        "class Account:\n",
        "  def __init__(self, name, email, country, friend = list(Account), post = list(Account)):\n",
        "    self.post = post\n",
        "\n",
        "\n"
      ],
      "metadata": {
        "id": "LusAo86jEnBU"
      },
      "execution_count": null,
      "outputs": []
    }
  ]
}